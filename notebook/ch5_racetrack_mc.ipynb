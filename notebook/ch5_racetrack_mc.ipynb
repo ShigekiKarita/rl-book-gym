{
 "cells": [
  {
   "cell_type": "code",
   "execution_count": 1,
   "metadata": {},
   "outputs": [],
   "source": [
    "%matplotlib inline\n",
    "import sys\n",
    "sys.path.append(\"../\")\n",
    "import numpy\n",
    "from matplotlib import pyplot\n",
    "from rl_book_gym.envs.racetrack import Env, Action, Reward"
   ]
  },
  {
   "cell_type": "code",
   "execution_count": 2,
   "metadata": {},
   "outputs": [
    {
     "data": {
      "text/plain": [
       "<matplotlib.image.AxesImage at 0x7fba8fe89160>"
      ]
     },
     "execution_count": 2,
     "metadata": {},
     "output_type": "execute_result"
    },
    {
     "data": {
      "image/png": "[encoded data removed]",
      "text/plain": [
       "<Figure size 432x216 with 2 Axes>"
      ]
     },
     "metadata": {},
     "output_type": "display_data"
    }
   ],
   "source": [
    "%matplotlib inline\n",
    "import numpy\n",
    "from matplotlib import pyplot\n",
    "fig = pyplot.figure(figsize=(6,3))\n",
    "ax = fig.add_subplot(1, 2, 1)\n",
    "ax.matshow(numpy.loadtxt(\"../asset/map-ex5-11-1.csv\", delimiter=\",\"))\n",
    "ax = fig.add_subplot(1, 2, 2)\n",
    "ax.matshow(numpy.loadtxt(\"../asset/map-ex5-11-2.csv\", delimiter=\",\"))"
   ]
  },
  {
   "cell_type": "code",
   "execution_count": 3,
   "metadata": {},
   "outputs": [],
   "source": [
    "from IPython.display import display\n",
    "env = Env(\"../asset/map-ex5-11-1.csv\")"
   ]
  },
  {
   "cell_type": "code",
   "execution_count": 4,
   "metadata": {},
   "outputs": [
    {
     "name": "stdout",
     "output_type": "stream",
     "text": [
      "[pos-x, pos-y, vel-x, vel-y] =  [32  7 -1  0]\n",
      "reward =  -1\n"
     ]
    },
    {
     "data": {
      "image/png": "[encoded data removed]",
      "text/plain": [
       "<Figure size 432x288 with 1 Axes>"
      ]
     },
     "metadata": {},
     "output_type": "display_data"
    }
   ],
   "source": [
    "obs, reward, done, info = env.step([Action.down, Action.keep])\n",
    "pyplot.imshow(env.render(mode=\"rgb_array\"))\n",
    "print(\"[pos-x, pos-y, vel-x, vel-y] = \", obs)\n",
    "print(\"reward = \", int(reward))"
   ]
  },
  {
   "cell_type": "code",
   "execution_count": 5,
   "metadata": {},
   "outputs": [
    {
     "name": "stdout",
     "output_type": "stream",
     "text": [
      "[pos-x, pos-y, vel-x, vel-y] =  [30  7 -2  0]\n",
      "reward =  -1\n"
     ]
    },
    {
     "data": {
      "image/png": "[encoded data removed]",
      "text/plain": [
       "<Figure size 432x288 with 1 Axes>"
      ]
     },
     "metadata": {},
     "output_type": "display_data"
    }
   ],
   "source": [
    "obs, reward, done, info = env.step([Action.down, Action.keep])\n",
    "pyplot.imshow(env.render(mode=\"rgb_array\"))\n",
    "print(\"[pos-x, pos-y, vel-x, vel-y] = \", obs)\n",
    "print(\"reward = \", int(reward))"
   ]
  },
  {
   "cell_type": "code",
   "execution_count": 6,
   "metadata": {},
   "outputs": [
    {
     "name": "stdout",
     "output_type": "stream",
     "text": [
      "[pos-x, pos-y, vel-x, vel-y] =  [27  7 -3  0]\n",
      "reward =  -1\n"
     ]
    },
    {
     "data": {
      "image/png": "[encoded data removed]",
      "text/plain": [
       "<Figure size 432x288 with 1 Axes>"
      ]
     },
     "metadata": {},
     "output_type": "display_data"
    }
   ],
   "source": [
    "obs, reward, done, info = env.step([Action.down, Action.keep])\n",
    "pyplot.imshow(env.render(mode=\"rgb_array\"))\n",
    "print(\"[pos-x, pos-y, vel-x, vel-y] = \", obs)\n",
    "print(\"reward = \", int(reward))"
   ]
  }
 ],
 "metadata": {
  "kernelspec": {
   "display_name": "Python 3",
   "language": "python",
   "name": "python3"
  },
  "language_info": {
   "codemirror_mode": {
    "name": "ipython",
    "version": 3
   },
   "file_extension": ".py",
   "mimetype": "text/x-python",
   "name": "python",
   "nbconvert_exporter": "python",
   "pygments_lexer": "ipython3",
   "version": "3.6.5"
  }
 },
 "nbformat": 4,
 "nbformat_minor": 2
}
