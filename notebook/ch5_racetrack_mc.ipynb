{
 "cells": [
  {
   "cell_type": "code",
   "execution_count": 1,
   "metadata": {},
   "outputs": [],
   "source": [
    "%matplotlib inline\n",
    "import sys\n",
    "sys.path.append(\"../\")\n",
    "import numpy\n",
    "from matplotlib import pyplot\n",
    "from rl_book_gym.envs.racetrack import Env, Action, Reward"
   ]
  },
  {
   "cell_type": "code",
   "execution_count": 2,
   "metadata": {},
   "outputs": [
    {
     "data": {
      "text/plain": [
       "<matplotlib.image.AxesImage at 0x7f4a31b1f2e8>"
      ]
     },
     "execution_count": 2,
     "metadata": {},
     "output_type": "execute_result"
    },
    {
     "data": {
      "image/png": "[encoded data removed]",
      "text/plain": [
       "<Figure size 432x216 with 2 Axes>"
      ]
     },
     "metadata": {},
     "output_type": "display_data"
    }
   ],
   "source": [
    "%matplotlib inline\n",
    "import numpy\n",
    "from matplotlib import pyplot\n",
    "fig = pyplot.figure(figsize=(6,3))\n",
    "ax = fig.add_subplot(1, 2, 1)\n",
    "ax.matshow(numpy.loadtxt(\"../asset/map-ex5-11-1.csv\", delimiter=\",\"))\n",
    "ax = fig.add_subplot(1, 2, 2)\n",
    "ax.matshow(numpy.loadtxt(\"../asset/map-ex5-11-2.csv\", delimiter=\",\"))"
   ]
  },
  {
   "cell_type": "code",
   "execution_count": 3,
   "metadata": {},
   "outputs": [],
   "source": [
    "from IPython.display import display\n",
    "env = Env(\"../asset/map-ex5-11-1.csv\")"
   ]
  },
  {
   "cell_type": "code",
   "execution_count": 4,
   "metadata": {},
   "outputs": [
    {
     "name": "stdout",
     "output_type": "stream",
     "text": [
      "[pos-x, pos-y, vel-x, vel-y] =  [32  7  0  0]\n"
     ]
    },
    {
     "data": {
      "image/png": "[encoded data removed]",
      "text/plain": [
       "<Figure size 432x288 with 1 Axes>"
      ]
     },
     "metadata": {},
     "output_type": "display_data"
    }
   ],
   "source": [
    "obs = env.reset()\n",
    "pyplot.imshow(env.render(mode=\"rgb_array\"))\n",
    "print(\"[pos-x, pos-y, vel-x, vel-y] = \", obs)"
   ]
  },
  {
   "cell_type": "code",
   "execution_count": 5,
   "metadata": {},
   "outputs": [
    {
     "name": "stdout",
     "output_type": "stream",
     "text": [
      "[pos-x, pos-y, vel-x, vel-y] =  [31  7 -1  0]\n",
      "reward =  -1\n"
     ]
    },
    {
     "data": {
      "image/png": "[encoded data removed]",
      "text/plain": [
       "<Figure size 432x288 with 1 Axes>"
      ]
     },
     "metadata": {},
     "output_type": "display_data"
    }
   ],
   "source": [
    "obs, reward, done, info = env.step([Action.down, Action.keep])\n",
    "pyplot.imshow(env.render(mode=\"rgb_array\"))\n",
    "print(\"[pos-x, pos-y, vel-x, vel-y] = \", obs)\n",
    "print(\"reward = \", int(reward))"
   ]
  },
  {
   "cell_type": "code",
   "execution_count": 6,
   "metadata": {},
   "outputs": [
    {
     "name": "stdout",
     "output_type": "stream",
     "text": [
      "[pos-x, pos-y, vel-x, vel-y] =  [29  7 -2  0]\n",
      "reward =  -1\n"
     ]
    },
    {
     "data": {
      "image/png": "[encoded data removed]",
      "text/plain": [
       "<Figure size 432x288 with 1 Axes>"
      ]
     },
     "metadata": {},
     "output_type": "display_data"
    }
   ],
   "source": [
    "obs, reward, done, info = env.step([Action.down, Action.keep])\n",
    "pyplot.imshow(env.render(mode=\"rgb_array\"))\n",
    "print(\"[pos-x, pos-y, vel-x, vel-y] = \", obs)\n",
    "print(\"reward = \", int(reward))"
   ]
  },
  {
   "cell_type": "code",
   "execution_count": 76,
   "metadata": {},
   "outputs": [],
   "source": [
    "class MonteCarloControler:\n",
    "    def __init__(self, actions, behaviour_policy=None):\n",
    "        self.value_dict = dict()\n",
    "        self.sum_weight_dict = dict()\n",
    "        self.eps = 0.1\n",
    "        self.discount = 0.9\n",
    "        self.actions = actions\n",
    "        if behaviour_policy is None:\n",
    "            self.behaviour_policy = self.eps_greedy_policy\n",
    "\n",
    "    def init_if_unseen(self, state):\n",
    "        # TODO: reconsider the initial value\n",
    "        if state not in self.value_dict:\n",
    "            self.value_dict[state] = dict()\n",
    "            self.sum_weight_dict[state] = dict()\n",
    "        for action in actions:\n",
    "            if action not in self.value_dict[state]:\n",
    "                self.value_dict[state][action] = 0\n",
    "                self.sum_weight_dict[state][action] = 0\n",
    "        \n",
    "    def update_step(self, state, action, cumsum_reward, weight):\n",
    "        self.init_if_unseen(state)\n",
    "        self.sum_weight_dict[state][action] += weight\n",
    "        scale = weight / self.sum_weight_dict[state][action]\n",
    "        diff = cumsum_reward - self.value_dict[state][action]\n",
    "        self.value_dict[state][action] += scale * diff\n",
    "\n",
    "    def update_episode(self, env):\n",
    "        obs = env.reset()\n",
    "        done = False\n",
    "        goal = False\n",
    "        cumsum_reward = 0.0\n",
    "        weight = 1\n",
    "        while not done:\n",
    "            prev_obs = tuple(obs)\n",
    "            b_act, b_prob = self.behaviour_policy(prev_obs)\n",
    "            obs, reward, done, info = env.step(b_act)\n",
    "            obs = tuple(obs)\n",
    "            cumsum_reward = reward + self.discount * cumsum_reward\n",
    "            self.update_step(prev_obs, b_act, cumsum_reward, weight)\n",
    "            if b_act != self.greedy_policy(prev_obs):\n",
    "                break\n",
    "            if reward == Reward.finish:\n",
    "                goal = True\n",
    "            weight /= b_prob\n",
    "        return cumsum_reward, goal\n",
    "        \n",
    "    def greedy_policy(self, state):\n",
    "        self.init_if_unseen(state)\n",
    "        return max(self.value_dict[state].items(), \n",
    "                   key=lambda kv: kv[1])[0]\n",
    "    \n",
    "    def eps_greedy_policy(self, state):\n",
    "        g_action = self.greedy_policy(state)\n",
    "        if numpy.random.rand() > self.eps:\n",
    "            return g_action, 1 - self.eps\n",
    "        f = [a for a in self.actions if a != g_action]\n",
    "        return f[numpy.random.randint(len(f))], self.eps\n",
    "\n",
    "    def value(self, state, action):\n",
    "        self.init_if_unseen(state)\n",
    "        return self.value_dict[state][action]\n",
    "    "
   ]
  },
  {
   "cell_type": "code",
   "execution_count": 84,
   "metadata": {},
   "outputs": [
    {
     "name": "stdout",
     "output_type": "stream",
     "text": [
      "-1.0\n",
      "-2.672692795310469\n",
      "-2.9273866148857057\n",
      "-3.066025300359188\n",
      "-3.160923351430419\n",
      "-3.230749669547983\n",
      "-3.2883930305345275\n",
      "-3.3396512813001697\n",
      "-3.387287692488047\n",
      "-3.4279108543097285\n",
      "-3.4563180656457915\n",
      "-3.4874081086514783\n",
      "-3.5201625250507385\n",
      "-3.546782463120822\n",
      "-3.569657160935669\n",
      "-3.589493645458088\n",
      "-3.6075442716064297\n",
      "-3.628145135726314\n",
      "-3.6496814571120373\n",
      "-3.6671663090504807\n",
      "-3.6816357900048753\n",
      "-3.694331844906052\n",
      "-3.7098148802407707\n",
      "-3.7231701209031227\n",
      "-3.7363048283815714\n",
      "-3.7485768508270843\n",
      "-3.7596214526833123\n",
      "-3.7702295517732654\n",
      "-3.7796073887962542\n",
      "-3.787292353872828\n",
      "-3.7970183246670324\n",
      "-3.805700235901496\n",
      "-3.8159833883245504\n",
      "-3.8229983875965536\n",
      "-3.8309906187758007\n",
      "-3.8383316633435576\n",
      "-3.846421200077256\n",
      "-3.854349578445408\n",
      "-3.8606916932330555\n",
      "-3.867918023668083\n",
      "-3.8754696504489896\n",
      "-3.88264945501682\n",
      "-3.8903069116525235\n",
      "-3.8972917488792125\n",
      "-3.9036843083531627\n",
      "-3.9092073893482815\n",
      "-3.9147778242250655\n",
      "-3.920660959688461\n",
      "-3.9267387019688798\n",
      "-3.9322797582970153\n",
      "-3.9387403177379157\n",
      "-3.944925438388287\n",
      "-3.95024136810768\n",
      "-3.9555117560563926\n",
      "-3.960515584228265\n",
      "-3.965285045693377\n",
      "-3.9704279623817063\n",
      "-3.9747953627138344\n",
      "-3.9792954797415767\n",
      "-3.9835598095063594\n",
      "-3.9865529040856185\n",
      "-3.9905540382407256\n",
      "-3.994303043814354\n",
      "-3.9977202869156914\n",
      "-4.00105271065325\n",
      "-4.005171306960784\n",
      "-4.0088427629540115\n",
      "-4.01270376689028\n",
      "-4.016033501510406\n",
      "-4.019692810855383\n",
      "-4.023551169680917\n",
      "-4.027452934947854\n",
      "-4.0314003924980675\n",
      "-4.035814932944835\n",
      "-4.0397787065391375\n",
      "-4.043781918957365\n",
      "-4.047467052029939\n",
      "-4.050874851842509\n",
      "-4.054684961456492\n",
      "-4.058886661380731\n",
      "-4.0623086756156255\n",
      "-4.065429973294159\n",
      "-4.06833642418545\n",
      "-4.071952974768745\n",
      "-4.075096164092096\n",
      "-4.077822177975024\n",
      "-4.08059411918653\n",
      "-4.083383363282083\n",
      "-4.087078698202404\n",
      "-4.090299058990917\n",
      "-4.092901154065956\n",
      "-4.095874758455694\n",
      "-4.098733031306125\n",
      "-4.101590825367322\n",
      "-4.104436514209465\n",
      "-4.106980821747062\n",
      "-4.109342686457163\n",
      "-4.1117972251593065\n",
      "-4.114446952671091\n",
      "cross the goal!\n",
      "cross the goal!\n",
      "cross the goal!\n",
      "cross the goal!\n",
      "cross the goal!\n",
      "cross the goal!\n",
      "-4.116531096535218\n"
     ]
    },
    {
     "data": {
      "text/plain": [
       "[<matplotlib.lines.Line2D at 0x7f4a2d4dc518>]"
      ]
     },
     "execution_count": 84,
     "metadata": {},
     "output_type": "execute_result"
    },
    {
     "data": {
      "image/png": "[encoded data removed]",
      "text/plain": [
       "<Figure size 432x288 with 1 Axes>"
      ]
     },
     "metadata": {},
     "output_type": "display_data"
    }
   ],
   "source": [
    "import itertools\n",
    "env = Env(\"../asset/map-ex5-11-2.csv\")\n",
    "actions = list(itertools.product(Action, Action))\n",
    "mcc = MonteCarloControler(actions)\n",
    "mcc.eps = 0.1\n",
    "mcc.discount = 0.9\n",
    "n_episodes = 1000000\n",
    "rs = []\n",
    "for i in range(n_episodes):\n",
    "    r, goal = mcc.update_episode(env)\n",
    "    rs.append(r)\n",
    "    if i % 10000 == 0:\n",
    "        print(numpy.mean(rs))\n",
    "    if goal:\n",
    "        print(\"cross the goal!\")\n",
    "pyplot.plot(range(n_episodes), rs)"
   ]
  },
  {
   "cell_type": "code",
   "execution_count": 85,
   "metadata": {},
   "outputs": [
    {
     "data": {
      "text/plain": [
       "[<matplotlib.lines.Line2D at 0x7f4a2d4b2f60>]"
      ]
     },
     "execution_count": 85,
     "metadata": {},
     "output_type": "execute_result"
    },
    {
     "data": {
      "image/png": "[encoded data removed]",
      "text/plain": [
       "<Figure size 432x288 with 1 Axes>"
      ]
     },
     "metadata": {},
     "output_type": "display_data"
    }
   ],
   "source": [
    "pyplot.plot(range(n_episodes), rs)"
   ]
  },
  {
   "cell_type": "code",
   "execution_count": null,
   "metadata": {},
   "outputs": [],
   "source": []
  }
 ],
 "metadata": {
  "kernelspec": {
   "display_name": "Python 3",
   "language": "python",
   "name": "python3"
  },
  "language_info": {
   "codemirror_mode": {
    "name": "ipython",
    "version": 3
   },
   "file_extension": ".py",
   "mimetype": "text/x-python",
   "name": "python",
   "nbconvert_exporter": "python",
   "pygments_lexer": "ipython3",
   "version": "3.6.5"
  }
 },
 "nbformat": 4,
 "nbformat_minor": 2
}
